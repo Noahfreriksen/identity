{
  "nbformat": 4,
  "nbformat_minor": 0,
  "metadata": {
    "colab": {
      "name": "Untitled3.ipynb",
      "provenance": [],
      "collapsed_sections": [],
      "mount_file_id": "1wjgUXC0FoZ6q4U28CGsPTCuDSxLVO_Fi",
      "authorship_tag": "ABX9TyPJ0Xt9HFZJUNXBbCaqqGLq",
      "include_colab_link": true
    },
    "kernelspec": {
      "name": "python3",
      "display_name": "Python 3"
    },
    "language_info": {
      "name": "python"
    }
  },
  "cells": [
    {
      "cell_type": "markdown",
      "metadata": {
        "id": "view-in-github",
        "colab_type": "text"
      },
      "source": [
        "<a href=\"https://colab.research.google.com/github/Noahfreriksen/identity/blob/main/predictor.ipynb\" target=\"_parent\"><img src=\"https://colab.research.google.com/assets/colab-badge.svg\" alt=\"Open In Colab\"/></a>"
      ]
    },
    {
      "cell_type": "code",
      "metadata": {
        "id": "p7nI-Zf1g8aS"
      },
      "source": [
        "from keras.models import load_model\n",
        "from keras.preprocessing import image\n",
        "import numpy as np"
      ],
      "execution_count": 2,
      "outputs": []
    },
    {
      "cell_type": "code",
      "metadata": {
        "id": "cHkPDYuGhR-T"
      },
      "source": [
        "model = load_model('/content/drive/MyDrive/identity/best_model.h5')\n",
        "model.compile(loss='categorical_crossentropy',\n",
        "              optimizer='adam',\n",
        "              metrics=['accuracy'])"
      ],
      "execution_count": 4,
      "outputs": []
    },
    {
      "cell_type": "code",
      "metadata": {
        "colab": {
          "base_uri": "https://localhost:8080/"
        },
        "id": "_bFWPV3qivmU",
        "outputId": "2c308d50-9f05-4dab-8776-e54acc019235"
      },
      "source": [
        "\n",
        "\n",
        "from keras.preprocessing.image import ImageDataGenerator\n",
        "train_datagen = ImageDataGenerator(\n",
        "    horizontal_flip=True,\n",
        "    shear_range=0.2,\n",
        "    zoom_range=0.2,\n",
        ")\n",
        "\n",
        "val_datagen = ImageDataGenerator(\n",
        "    horizontal_flip=True\n",
        ")\n",
        "\n",
        "training_set = train_datagen.flow_from_directory(\n",
        "    '/content/drive/MyDrive/identity/dataset/train',\n",
        "    target_size=(160, 160),\n",
        "    batch_size=60,\n",
        "    class_mode='sparse')\n",
        "\n",
        "label_map = (training_set.class_indices)\n",
        "\n",
        "img = image.load_img('/content/drive/MyDrive/identity/featured/Ambitious/0OwXuwyhVV.jpeg', target_size=(160, 160))\n",
        "x = image.img_to_array(img)\n",
        "x = np.expand_dims(x, axis=0)\n",
        "\n",
        "images = np.vstack([x])\n",
        "classes = model.predict(images)[0]\n",
        "sorted_classes = classes.tolist()\n",
        "sorted_classes.sort()\n",
        "\n",
        "print(classes)\n",
        "print(sorted_classes)\n",
        "print(type(classes))\n",
        "\n",
        "max_value = sorted_classes[-1]\n",
        "second_max_value = sorted_classes[-2]\n",
        "min_value = sorted_classes[0]\n",
        "second_min_value = sorted_classes[1]\n",
        "\n",
        "print(max_value, second_max_value, min_value, second_min_value)\n",
        "\n",
        "max_index = classes.tolist().index(max_value)\n",
        "second_max_index = classes.tolist().index(second_max_value)\n",
        "min_index = classes.tolist().index(min_value)\n",
        "second_min_index = classes.tolist().index(second_min_value)\n",
        "print(list(label_map.keys())[max_index])\n",
        "\n"
      ],
      "execution_count": 31,
      "outputs": [
        {
          "output_type": "stream",
          "name": "stdout",
          "text": [
            "Found 630 images belonging to 10 classes.\n",
            "[0.6520637  0.01274801 0.00457976 0.12995186 0.05406648 0.00467741\n",
            " 0.01859032 0.0335062  0.01870542 0.07111081]\n",
            "[0.004579764790832996, 0.004677409306168556, 0.01274800579994917, 0.018590319901704788, 0.018705416470766068, 0.03350619599223137, 0.05406647548079491, 0.0711108148097992, 0.1299518644809723, 0.6520637273788452]\n",
            "<class 'numpy.ndarray'>\n",
            "0.6520637273788452 0.1299518644809723 0.004579764790832996 0.004677409306168556\n",
            "Ambitious\n"
          ]
        }
      ]
    }
  ]
}